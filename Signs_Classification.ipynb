{
  "nbformat": 4,
  "nbformat_minor": 0,
  "metadata": {
    "colab": {
      "name": "Signs_Classification",
      "provenance": []
    },
    "kernelspec": {
      "name": "python3",
      "display_name": "Python 3"
    },
    "accelerator": "GPU"
  },
  "cells": [
    {
      "cell_type": "code",
      "metadata": {
        "id": "O9wpjULuwiRQ",
        "colab_type": "code",
        "outputId": "b230bcb6-fc4b-435b-e098-07f87a89891f",
        "colab": {
          "base_uri": "https://localhost:8080/",
          "height": 34
        }
      },
      "source": [
        "cd /content/drive/My Drive/Colab Notebooks/PRACTICE Learning/Coursera_Tensorflow/Sign_gesture"
      ],
      "execution_count": 16,
      "outputs": [
        {
          "output_type": "stream",
          "text": [
            "/content/drive/My Drive/Colab Notebooks/PRACTICE Learning/Coursera_Tensorflow/Sign_gesture\n"
          ],
          "name": "stdout"
        }
      ]
    },
    {
      "cell_type": "code",
      "metadata": {
        "id": "jhAtZXqfwsI5",
        "colab_type": "code",
        "outputId": "e2f41279-7088-4795-a01b-390e61b63c2d",
        "colab": {
          "base_uri": "https://localhost:8080/",
          "height": 34
        }
      },
      "source": [
        "ls"
      ],
      "execution_count": 17,
      "outputs": [
        {
          "output_type": "stream",
          "text": [
            "Signs_Classification  test_signs.h5  train_signs.h5\n"
          ],
          "name": "stdout"
        }
      ]
    },
    {
      "cell_type": "code",
      "metadata": {
        "id": "M-YqUi3twvH5",
        "colab_type": "code",
        "colab": {}
      },
      "source": [
        "%tensorflow_version 1.x\n",
        "import tensorflow as tf\n",
        "from tensorflow.python.framework import ops\n",
        "import numpy as np\n",
        "import matplotlib.pyplot as plt\n",
        "import h5py\n",
        "import math"
      ],
      "execution_count": 0,
      "outputs": []
    },
    {
      "cell_type": "markdown",
      "metadata": {
        "id": "70ajMhProQCs",
        "colab_type": "text"
      },
      "source": [
        "#**Defining Helping Functions**"
      ]
    },
    {
      "cell_type": "code",
      "metadata": {
        "id": "jMIcild8xJ-X",
        "colab_type": "code",
        "colab": {}
      },
      "source": [
        "def load_dataset():\n",
        "  train_dataset = h5py.File(\"train_signs.h5\", \"r\")\n",
        "  train_set_x_orig = np.array(train_dataset[\"train_set_x\"][:])\n",
        "  train_set_y_orig = np.array(train_dataset[\"train_set_y\"][:])\n",
        "\n",
        "  test_dataset = h5py.File(\"test_signs.h5\", \"r\")\n",
        "  test_set_x_orig = np.array(test_dataset[\"test_set_x\"][:])\n",
        "  test_set_y_orig = np.array(test_dataset[\"test_set_y\"][:])\n",
        "\n",
        "  classes = np.array(test_dataset[\"list_classes\"][:])\n",
        "\n",
        "  train_set_y_orig = train_set_y_orig.reshape((1,train_set_y_orig.shape[0]))\n",
        "  test_set_y_orig = test_set_y_orig.reshape((1,test_set_y_orig.shape[0]))\n",
        "\n",
        "  return train_set_x_orig, train_set_y_orig, test_set_x_orig, test_set_y_orig, classes"
      ],
      "execution_count": 0,
      "outputs": []
    },
    {
      "cell_type": "code",
      "metadata": {
        "id": "gMiMwPNCEgmN",
        "colab_type": "code",
        "colab": {}
      },
      "source": [
        "def random_mini_batches(X,Y,minibatch_size = 64, seed = 0):\n",
        "  m = X.shape[1]\n",
        "  mini_batches = []\n",
        "  np.random.seed(1)\n",
        "\n",
        "  #step 1: Shuffling the dataset\n",
        "  permutation = list(np.random.permutation(m))\n",
        "  shuffled_X = X[:,permutation]\n",
        "  shuffled_Y = Y[:,permutation]\n",
        "  #step 2: Creating the mini batches\n",
        "  num_complete_minibatches = math.floor(m/minibatch_size)\n",
        "  for k in range(num_complete_minibatches):\n",
        "    mini_batch_X = shuffled_X[:, k*num_complete_minibatches:(k+1)*num_complete_minibatches]\n",
        "    mini_batch_Y = shuffled_Y[:, k*num_complete_minibatches:(k+1)*num_complete_minibatches]\n",
        "    mini_batch = (mini_batch_X,mini_batch_Y)\n",
        "    mini_batches.append(mini_batch)\n",
        "\n",
        "  if m % minibatch_size != 0:\n",
        "    mini_batch_X = shuffled_X[:, num_complete_minibatches*minibatch_size:m]\n",
        "    mini_batch_Y = shuffled_Y[:, num_complete_minibatches*minibatch_size:m]\n",
        "    mini_batch = (mini_batch_X,mini_batch_Y)\n",
        "    mini_batches.append(mini_batch)\n",
        "\n",
        "  return mini_batches\n",
        "  "
      ],
      "execution_count": 0,
      "outputs": []
    },
    {
      "cell_type": "code",
      "metadata": {
        "id": "nMovDxA5HXr2",
        "colab_type": "code",
        "colab": {}
      },
      "source": [
        "def convert_to_one_hot(Y, C):\n",
        "  Y = np.eye(C)[Y.reshape(-1)].T\n",
        "  return Y"
      ],
      "execution_count": 0,
      "outputs": []
    },
    {
      "cell_type": "code",
      "metadata": {
        "id": "DYjo9SEZoOrE",
        "colab_type": "code",
        "colab": {}
      },
      "source": [
        "def create_placeholders(n_x,n_y):\n",
        "  X = tf.placeholder(tf.float32, shape=[n_x,None])\n",
        "  Y = tf.placeholder(tf.float32, shape=[n_y,None])\n",
        "  return X, Y"
      ],
      "execution_count": 0,
      "outputs": []
    },
    {
      "cell_type": "code",
      "metadata": {
        "id": "bbc3k7xz9n8q",
        "colab_type": "code",
        "colab": {}
      },
      "source": [
        "def initialize_parameters():\n",
        "  tf.set_random_seed(1)\n",
        "\n",
        "  W1 = tf.get_variable(\"W1\",[25,12288],initializer= tf.contrib.layers.xavier_initializer(seed=1))\n",
        "  b1 = tf.get_variable(\"b1\",[25,1],initializer= tf.zeros_initializer())\n",
        "  W2 = tf.get_variable(\"W2\",[25,25],initializer= tf.contrib.layers.xavier_initializer(seed = 1))\n",
        "  b2 = tf.get_variable(\"b2\",[25,1],initializer= tf.zeros_initializer())\n",
        "  W3 = tf.get_variable(\"W3\",[12,25],initializer= tf.contrib.layers.xavier_initializer(seed=1))\n",
        "  b3 = tf.get_variable(\"b3\",[12,1],initializer= tf.zeros_initializer())\n",
        "  W4 = tf.get_variable(\"W4\",[6,12],initializer= tf.contrib.layers.xavier_initializer(seed=1))\n",
        "  b4 = tf.get_variable(\"b4\",[6,1],initializer= tf.zeros_initializer())\n",
        "\n",
        "\n",
        "  parameters = {\"W1\":W1,\n",
        "                \"b1\":b1,\n",
        "                \"W2\":W2,\n",
        "                \"b2\":b2,\n",
        "                \"W3\":W3,\n",
        "                \"b3\":b3,\n",
        "                \"W4\":W4,\n",
        "                \"b4\":b4}\n",
        "  return parameters\n"
      ],
      "execution_count": 0,
      "outputs": []
    },
    {
      "cell_type": "code",
      "metadata": {
        "id": "8Eo4PoSSxOil",
        "colab_type": "code",
        "colab": {}
      },
      "source": [
        "def forward_propagation(X, parameters):\n",
        "\n",
        "  #retrieving the parameters\n",
        "  W1 = parameters[\"W1\"]\n",
        "  b1 = parameters[\"b1\"]\n",
        "  W2 = parameters[\"W2\"]\n",
        "  b2 = parameters[\"b2\"]\n",
        "  W3 = parameters[\"W3\"]\n",
        "  b3 = parameters[\"b3\"]\n",
        "  W4 = parameters[\"W4\"]\n",
        "  b4 = parameters[\"b4\"]\n",
        "\n",
        "  #Linear Forward With Activation\n",
        "  Z_1 = tf.add(tf.matmul(W1,X),b1)\n",
        "  Z1 = tf.nn.dropout(Z_1, rate = 0)\n",
        "  A1 = tf.nn.relu(Z1)\n",
        "  Z_2 = tf.add(tf.matmul(W2,A1),b2)\n",
        "  Z2 = tf.nn.dropout(Z_2, rate= 0)\n",
        "  A2 = tf.nn.relu(Z2)\n",
        "  Z_3 = tf.add(tf.matmul(W3,A2),b3)\n",
        "  Z3 = tf.nn.dropout(Z_3, rate= 0)\n",
        "  A3 = tf.nn.relu(Z3)\n",
        "  Z4 = tf.add(tf.matmul(W4,A3),b4)\n",
        "\n",
        "  return Z4"
      ],
      "execution_count": 0,
      "outputs": []
    },
    {
      "cell_type": "code",
      "metadata": {
        "id": "OF9qPM-e2t_5",
        "colab_type": "code",
        "colab": {}
      },
      "source": [
        "def compute_cost(Z4,Y):\n",
        "\n",
        "  logits = tf.transpose(Z4)\n",
        "  labels = tf.transpose(Y)\n",
        "  cost = tf.reduce_mean(tf.nn.softmax_cross_entropy_with_logits_v2(logits= logits, labels = labels))\n",
        "\n",
        "  return cost"
      ],
      "execution_count": 0,
      "outputs": []
    },
    {
      "cell_type": "code",
      "metadata": {
        "id": "kQVrqo64ERgd",
        "colab_type": "code",
        "colab": {}
      },
      "source": [
        "def model(X_train,Y_train,X_test,Y_test, learning_rate = 0.00001, num_epochs = 2000, minibatch_size = 32, print_cost = True):\n",
        "  tf.reset_default_graph()\n",
        "  tf.set_random_seed(1)\n",
        "  seed = 3\n",
        "  lambd = 0.3\n",
        "\n",
        "  (n_x,m) = X_train.shape\n",
        "  n_y = Y_train.shape[0]\n",
        "  costs = []\n",
        "\n",
        "  X,Y = create_placeholders(n_x,n_y)\n",
        "  parameters = initialize_parameters()\n",
        "  W1,W2,W3,W4 = parameters[\"W1\"],parameters[\"W2\"],parameters[\"W3\"],parameters[\"W4\"]\n",
        "  Z4 = forward_propagation(X,parameters)\n",
        "  loss = compute_cost(Z4,Y)\n",
        "  regularizer = tf.nn.l2_loss(W1)+tf.nn.l2_loss(W2)+tf.nn.l2_loss(W3)+tf.nn.l2_loss(W4)\n",
        "  cost = tf.reduce_mean(loss + (lambd/m)*regularizer)\n",
        "  optimizer = tf.train.AdamOptimizer(learning_rate).minimize(cost)\n",
        "\n",
        "  init = tf.global_variables_initializer()\n",
        "\n",
        "  with tf.Session() as sess:\n",
        "    sess.run(init)\n",
        "    for i in range(num_epochs):\n",
        "      \n",
        "      epoch_cost = 0\n",
        "      num_minibatches = int(m/minibatch_size)\n",
        "      seed = seed+1\n",
        "      minibatches = random_mini_batches(X_train,Y_train, minibatch_size, seed)\n",
        "\n",
        "      for minibatch in minibatches:\n",
        "        (minibatch_X,minibatch_Y) = minibatch\n",
        "        _,minibatch_cost = sess.run([optimizer,cost], feed_dict = {X:minibatch_X,Y:minibatch_Y})\n",
        "        epoch_cost += minibatch_cost/minibatch_size\n",
        "\n",
        "      if print_cost and i%100 == 0:\n",
        "        print(\"Cost after epoch %i: %f\" %(i,epoch_cost))\n",
        "      if print_cost and i%5==0:\n",
        "        costs.append(epoch_cost)\n",
        "\n",
        "    plt.plot(np.squeeze(costs))\n",
        "    plt.xlabel(\"Iterartions(per 5)\")\n",
        "    plt.ylabel(\"Cost\")\n",
        "    plt.title(\"Learning Rate:\"+str(learning_rate))\n",
        "    plt.show()\n",
        "\n",
        "\n",
        "    parameters = sess.run(parameters)\n",
        "    correct_prediction = tf.equal(tf.argmax(Z4), tf.argmax(Y))\n",
        "    accuracy = tf.reduce_mean(tf.cast(correct_prediction,\"float\"))\n",
        "\n",
        "    print(\"Train Acccuracy:\",accuracy.eval({X: X_train,Y: Y_train}))\n",
        "    print(\"Test Acccuracy:\",accuracy.eval({X: X_test,Y: Y_test}))\n",
        "\n",
        "    return parameters"
      ],
      "execution_count": 0,
      "outputs": []
    },
    {
      "cell_type": "code",
      "metadata": {
        "id": "KJ4yUihfH-SB",
        "colab_type": "code",
        "colab": {}
      },
      "source": [
        "train_set_x_orig, train_set_y_orig, test_set_x_orig, test_set_y_orig, classes = load_dataset()"
      ],
      "execution_count": 0,
      "outputs": []
    },
    {
      "cell_type": "code",
      "metadata": {
        "id": "WrfXuo7QwTr4",
        "colab_type": "code",
        "outputId": "9b4182f0-392c-44e5-876f-9b6d82aa7316",
        "colab": {
          "base_uri": "https://localhost:8080/",
          "height": 285
        }
      },
      "source": [
        "plt.imshow(train_set_x_orig[25])\n",
        "print((train_set_y_orig[:,25]))"
      ],
      "execution_count": 60,
      "outputs": [
        {
          "output_type": "stream",
          "text": [
            "[3]\n"
          ],
          "name": "stdout"
        },
        {
          "output_type": "display_data",
          "data": {
            "image/png": "[encoded data removed]",
            "text/plain": [
              "<Figure size 432x288 with 1 Axes>"
            ]
          },
          "metadata": {
            "tags": [],
            "needs_background": "light"
          }
        }
      ]
    },
    {
      "cell_type": "code",
      "metadata": {
        "id": "IRndxeUuKka_",
        "colab_type": "code",
        "colab": {}
      },
      "source": [
        "X_train_flatten = train_set_x_orig.reshape(train_set_x_orig.shape[0],-1).T\n",
        "X_test_flatten = test_set_x_orig.reshape(test_set_x_orig.shape[0], -1).T\n",
        "\n",
        "X_train = X_train_flatten/255\n",
        "X_test = X_test_flatten/255\n",
        "\n",
        "Y_train = convert_to_one_hot(train_set_y_orig,6)\n",
        "Y_test = convert_to_one_hot(test_set_y_orig,6)"
      ],
      "execution_count": 0,
      "outputs": []
    },
    {
      "cell_type": "code",
      "metadata": {
        "id": "crOqH4FZKrIc",
        "colab_type": "code",
        "outputId": "35aab6c1-402b-4a57-c66a-2d9cf2f08127",
        "colab": {
          "base_uri": "https://localhost:8080/",
          "height": 677
        }
      },
      "source": [
        "parameters = model(X_train,Y_train,X_test,Y_test)"
      ],
      "execution_count": 90,
      "outputs": [
        {
          "output_type": "stream",
          "text": [
            "Cost after epoch 0: 1.916149\n",
            "Cost after epoch 100: 1.584626\n",
            "Cost after epoch 200: 1.399865\n",
            "Cost after epoch 300: 1.231425\n",
            "Cost after epoch 400: 1.087362\n",
            "Cost after epoch 500: 0.959258\n",
            "Cost after epoch 600: 0.843798\n",
            "Cost after epoch 700: 0.743908\n",
            "Cost after epoch 800: 0.653831\n",
            "Cost after epoch 900: 0.577303\n",
            "Cost after epoch 1000: 0.510606\n",
            "Cost after epoch 1100: 0.451263\n",
            "Cost after epoch 1200: 0.397893\n",
            "Cost after epoch 1300: 0.350212\n",
            "Cost after epoch 1400: 0.307866\n",
            "Cost after epoch 1500: 0.269958\n",
            "Cost after epoch 1600: 0.235834\n",
            "Cost after epoch 1700: 0.205679\n",
            "Cost after epoch 1800: 0.179708\n",
            "Cost after epoch 1900: 0.156266\n"
          ],
          "name": "stdout"
        },
        {
          "output_type": "display_data",
          "data": {
            "image/png": "[encoded data removed]",
            "text/plain": [
              "<Figure size 432x288 with 1 Axes>"
            ]
          },
          "metadata": {
            "tags": [],
            "needs_background": "light"
          }
        },
        {
          "output_type": "stream",
          "text": [
            "Train Acccuracy: 0.9787037\n",
            "Test Acccuracy: 0.85\n"
          ],
          "name": "stdout"
        }
      ]
    },
    {
      "cell_type": "markdown",
      "metadata": {
        "id": "p-oUPMjp28U9",
        "colab_type": "text"
      },
      "source": [
        "#**Prediction**"
      ]
    },
    {
      "cell_type": "code",
      "metadata": {
        "id": "7b8vGFmewLbA",
        "colab_type": "code",
        "colab": {}
      },
      "source": [
        "def predict(X, parameters):\n",
        "    \n",
        "    \n",
        "    \n",
        "    x = tf.placeholder(\"float\", [12288, None])\n",
        "    \n",
        "    z4 = forward_propagation(x, parameters)\n",
        "    p = tf.argmax(z4)\n",
        "    \n",
        "    with tf.Session() as sess:\n",
        "        prediction = sess.run(p, feed_dict = {x: X})\n",
        "          \n",
        "    return prediction\n",
        "    "
      ],
      "execution_count": 0,
      "outputs": []
    },
    {
      "cell_type": "code",
      "metadata": {
        "id": "cJG-lTcMxe6V",
        "colab_type": "code",
        "colab": {}
      },
      "source": [
        "Y_pred = predict(X_test,parameters)"
      ],
      "execution_count": 0,
      "outputs": []
    },
    {
      "cell_type": "code",
      "metadata": {
        "id": "2r4su4m8x-NH",
        "colab_type": "code",
        "colab": {
          "base_uri": "https://localhost:8080/",
          "height": 121
        },
        "outputId": "899f332e-9c67-435b-e982-80cde9553c09"
      },
      "source": [
        "Y_pred.reshape((1,120)) "
      ],
      "execution_count": 143,
      "outputs": [
        {
          "output_type": "execute_result",
          "data": {
            "text/plain": [
              "array([[1, 0, 0, 5, 1, 0, 3, 1, 4, 1, 5, 1, 3, 1, 1, 3, 5, 4, 0, 4, 5, 2,\n",
              "        2, 5, 3, 5, 4, 2, 1, 4, 3, 1, 0, 3, 1, 1, 0, 2, 2, 3, 0, 3, 0, 2,\n",
              "        3, 1, 1, 3, 0, 3, 4, 1, 2, 0, 4, 0, 4, 0, 2, 5, 5, 4, 2, 4, 4, 3,\n",
              "        0, 1, 3, 5, 0, 5, 3, 1, 3, 4, 3, 5, 1, 5, 2, 0, 1, 3, 2, 4, 4, 1,\n",
              "        4, 5, 5, 0, 0, 4, 5, 5, 3, 3, 4, 2, 2, 2, 0, 3, 5, 3, 0, 2, 3, 4,\n",
              "        1, 3, 2, 4, 2, 2, 1, 3, 1, 3]])"
            ]
          },
          "metadata": {
            "tags": []
          },
          "execution_count": 143
        }
      ]
    },
    {
      "cell_type": "code",
      "metadata": {
        "id": "ICTEpYP3yABc",
        "colab_type": "code",
        "colab": {
          "base_uri": "https://localhost:8080/",
          "height": 285
        },
        "outputId": "2390c3f4-627c-49fa-f3ae-3ed9938b460d"
      },
      "source": [
        "index = 70\n",
        "plt.imshow(test_set_x_orig[index])\n",
        "print(\"The sign says:\",Y_pred[index])"
      ],
      "execution_count": 151,
      "outputs": [
        {
          "output_type": "stream",
          "text": [
            "The sign says: 0\n"
          ],
          "name": "stdout"
        },
        {
          "output_type": "display_data",
          "data": {
            "image/png": "[encoded data removed]",
            "text/plain": [
              "<Figure size 432x288 with 1 Axes>"
            ]
          },
          "metadata": {
            "tags": [],
            "needs_background": "light"
          }
        }
      ]
    },
    {
      "cell_type": "code",
      "metadata": {
        "id": "1DZtYlsN2bUc",
        "colab_type": "code",
        "colab": {}
      },
      "source": [
        ""
      ],
      "execution_count": 0,
      "outputs": []
    }
  ]
}